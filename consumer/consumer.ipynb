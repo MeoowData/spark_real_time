{
 "cells": [
  {
   "cell_type": "code",
   "execution_count": 1,
   "id": "28edbb26-b7eb-4c2d-be53-dd563f845ac6",
   "metadata": {
    "tags": []
   },
   "outputs": [],
   "source": [
    "import os\n",
    "import pyspark\n",
    "from pyspark.streaming import StreamingContext\n",
    "from pyspark.sql import SparkSession\n",
    "from pyspark.sql.types import StructType, StructField, StringType, DoubleType\n",
    "from pyspark.sql.functions import col, from_json, translate\n",
    "import re\n",
    "from IPython.display import display, clear_output\n",
    "from time import sleep"
   ]
  },
  {
   "cell_type": "code",
   "execution_count": 2,
   "id": "88cbeaef-9da6-432f-85a9-2f861179ec58",
   "metadata": {
    "tags": []
   },
   "outputs": [],
   "source": [
    "SERVER = 'broker:29092'"
   ]
  },
  {
   "cell_type": "code",
   "execution_count": 3,
   "id": "172a6163-5ab5-41e3-8da3-918d1c8fb69c",
   "metadata": {
    "tags": []
   },
   "outputs": [],
   "source": [
    "TOPIC = 'streaming_cartao'"
   ]
  },
  {
   "cell_type": "code",
   "execution_count": 4,
   "id": "f3c291a5-e1c9-48d7-9e92-b53caf86672e",
   "metadata": {
    "tags": []
   },
   "outputs": [],
   "source": [
    "os.environ['PYSPARK_SUBMIT_ARGS'] = '--packages org.apache.spark:spark-sql-kafka-0-10_2.12:3.3.2 pyspark-shell'"
   ]
  },
  {
   "cell_type": "code",
   "execution_count": 5,
   "id": "a2f5d5a4-c51c-42ae-b261-4b69bf9508c5",
   "metadata": {
    "tags": []
   },
   "outputs": [],
   "source": [
    "spark = SparkSession.builder.appName(\"teste\").getOrCreate()"
   ]
  },
  {
   "cell_type": "code",
   "execution_count": 6,
   "id": "2e9fa6c7-d313-45e9-98ab-8ec845bdd598",
   "metadata": {
    "tags": []
   },
   "outputs": [],
   "source": [
    "df = spark \\\n",
    "  .readStream \\\n",
    "  .format(\"kafka\") \\\n",
    "  .option(\"kafka.bootstrap.servers\", SERVER) \\\n",
    "  .option(\"subscribe\", TOPIC) \\\n",
    "  .option(\"startingOffsets\", \"earliest\") \\\n",
    "  .load()"
   ]
  },
  {
   "cell_type": "code",
   "execution_count": 7,
   "id": "ba73fb26-9ef2-470b-afaa-b2f345083625",
   "metadata": {
    "tags": []
   },
   "outputs": [],
   "source": [
    "esquema_dados = StructType([                 \n",
    "                 StructField('name', StringType(), True),\n",
    "                 StructField('bandeira', StringType(), True),\n",
    "                 StructField('credit_card', StringType(), True),\n",
    "                 StructField('value', StringType(), True),\n",
    "                 StructField('dia_compra', StringType(), True),\n",
    "                 StructField('horario_compra', StringType(), True),\n",
    "                 StructField('formato_captura', StringType(), True)\n",
    "])"
   ]
  },
  {
   "cell_type": "code",
   "execution_count": 8,
   "id": "6692ec8e-7ec4-482d-9787-8ce275921a59",
   "metadata": {
    "tags": []
   },
   "outputs": [],
   "source": [
    "df = df.selectExpr(\"CAST(value AS STRING)\")"
   ]
  },
  {
   "cell_type": "code",
   "execution_count": 9,
   "id": "302d02e9-9dad-4821-9cbe-aad6ab89ba45",
   "metadata": {
    "tags": []
   },
   "outputs": [],
   "source": [
    "df_dois = df.withColumn(\"jsonData\", from_json(col(\"value\"), esquema_dados)).select(\"jsonData.*\")"
   ]
  },
  {
   "cell_type": "code",
   "execution_count": 10,
   "id": "16499459-11f2-4049-8c28-01c34d82ca2e",
   "metadata": {
    "tags": []
   },
   "outputs": [
    {
     "name": "stdout",
     "output_type": "stream",
     "text": [
      "root\n",
      " |-- name: string (nullable = true)\n",
      " |-- bandeira: string (nullable = true)\n",
      " |-- credit_card: string (nullable = true)\n",
      " |-- value: string (nullable = true)\n",
      " |-- dia_compra: string (nullable = true)\n",
      " |-- horario_compra: string (nullable = true)\n",
      " |-- formato_captura: string (nullable = true)\n",
      "\n"
     ]
    }
   ],
   "source": [
    "df_dois.printSchema()"
   ]
  },
  {
   "cell_type": "code",
   "execution_count": 11,
   "id": "afa0478f-f8be-431e-95ae-f5cc6278aefd",
   "metadata": {
    "tags": []
   },
   "outputs": [],
   "source": [
    "df_media_captura = df_dois.select(col('formato_captura').alias('captura'),\n",
    "                                  translate(col(\"value\"), \"$,\", \"\").cast('float').alias('valor'))"
   ]
  },
  {
   "cell_type": "code",
   "execution_count": 12,
   "id": "993d8c5d-9f83-43b1-9978-a98fa7ae83bf",
   "metadata": {
    "tags": []
   },
   "outputs": [],
   "source": [
    "df_media_captura = df_media_captura.groupby('captura').mean('valor')"
   ]
  },
  {
   "cell_type": "code",
   "execution_count": 13,
   "id": "1973388d-755e-4b15-b201-2a07453e683d",
   "metadata": {
    "tags": []
   },
   "outputs": [],
   "source": [
    "query = df_media_captura.writeStream \\\n",
    "        .outputMode(\"complete\") \\\n",
    "        .format(\"memory\") \\\n",
    "        .queryName('media_valor_captura') \\\n",
    "        .start()"
   ]
  },
  {
   "cell_type": "markdown",
   "id": "fe17a992-5dce-478b-aa02-e00b748a4af0",
   "metadata": {
    "tags": []
   },
   "source": [
    "while True:\n",
    "    clear_output(wait = True)\n",
    "    display(query.status)\n",
    "    display(spark.sql('SELECT * FROM media_valor_captura').show())\n",
    "    time.sleep(1)"
   ]
  },
  {
   "cell_type": "code",
   "execution_count": 14,
   "id": "b269d8a7-ae96-40f9-ab6c-5451dbd1667e",
   "metadata": {
    "tags": []
   },
   "outputs": [
    {
     "name": "stdout",
     "output_type": "stream",
     "text": [
      "+-------+----------+\n",
      "|captura|avg(valor)|\n",
      "+-------+----------+\n",
      "+-------+----------+\n",
      "\n",
      "+-------+----------+\n",
      "|captura|avg(valor)|\n",
      "+-------+----------+\n",
      "+-------+----------+\n",
      "\n",
      "+-------+------------------+\n",
      "|captura|        avg(valor)|\n",
      "+-------+------------------+\n",
      "|    TEF| 11361.85643365036|\n",
      "|Gateway|10537.767753891945|\n",
      "|    POS|14558.005987310478|\n",
      "+-------+------------------+\n",
      "\n",
      "+-------+------------------+\n",
      "|captura|        avg(valor)|\n",
      "+-------+------------------+\n",
      "|    TEF| 11361.85643365036|\n",
      "|Gateway|10537.767753891945|\n",
      "|    POS|14558.005987310478|\n",
      "+-------+------------------+\n",
      "\n",
      "+-------+------------------+\n",
      "|captura|        avg(valor)|\n",
      "+-------+------------------+\n",
      "|    TEF| 11361.85643365036|\n",
      "|Gateway|10537.767753891945|\n",
      "|    POS|14558.005987310478|\n",
      "+-------+------------------+\n",
      "\n"
     ]
    },
    {
     "ename": "KeyboardInterrupt",
     "evalue": "",
     "output_type": "error",
     "traceback": [
      "\u001b[0;31m---------------------------------------------------------------------------\u001b[0m",
      "\u001b[0;31mKeyboardInterrupt\u001b[0m                         Traceback (most recent call last)",
      "Cell \u001b[0;32mIn[14], line 3\u001b[0m\n\u001b[1;32m      1\u001b[0m \u001b[38;5;28;01mwhile\u001b[39;00m \u001b[38;5;28;01mTrue\u001b[39;00m:    \n\u001b[1;32m      2\u001b[0m     spark\u001b[38;5;241m.\u001b[39msql(\u001b[38;5;124m'\u001b[39m\u001b[38;5;124mSELECT * FROM media_valor_captura\u001b[39m\u001b[38;5;124m'\u001b[39m)\u001b[38;5;241m.\u001b[39mshow()    \n\u001b[0;32m----> 3\u001b[0m     \u001b[43msleep\u001b[49m\u001b[43m(\u001b[49m\u001b[38;5;241;43m3\u001b[39;49m\u001b[43m)\u001b[49m\n",
      "\u001b[0;31mKeyboardInterrupt\u001b[0m: "
     ]
    }
   ],
   "source": [
    "while True:    \n",
    "    spark.sql('SELECT * FROM media_valor_captura').show()    \n",
    "    sleep(3)"
   ]
  },
  {
   "cell_type": "code",
   "execution_count": null,
   "id": "0e272381-1236-4889-88d0-52c2426289e4",
   "metadata": {},
   "outputs": [],
   "source": []
  }
 ],
 "metadata": {
  "kernelspec": {
   "display_name": "Python 3 (ipykernel)",
   "language": "python",
   "name": "python3"
  },
  "language_info": {
   "codemirror_mode": {
    "name": "ipython",
    "version": 3
   },
   "file_extension": ".py",
   "mimetype": "text/x-python",
   "name": "python",
   "nbconvert_exporter": "python",
   "pygments_lexer": "ipython3",
   "version": "3.10.10"
  }
 },
 "nbformat": 4,
 "nbformat_minor": 5
}
